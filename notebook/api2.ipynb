{
 "cells": [
  {
   "cell_type": "code",
   "execution_count": 17,
   "metadata": {},
   "outputs": [],
   "source": [
    "from google.cloud import texttospeech\n",
    "from google.api_core.client_options import ClientOptions\n",
    "import os\n",
    "from IPython.display import display, Audio\n",
    "import requests"
   ]
  },
  {
   "cell_type": "code",
   "execution_count": 10,
   "metadata": {},
   "outputs": [],
   "source": [
    "api_key = os.environ.get(\"GOOGLE_API_KEY\")\n",
    "client_options = ClientOptions(api_key=api_key)\n",
    "client = texttospeech.TextToSpeechClient(client_options=client_options)"
   ]
  },
  {
   "cell_type": "code",
   "execution_count": null,
   "metadata": {},
   "outputs": [],
   "source": [
    "def synthesize_speech(text):\n",
    "    input_text = texttospeech.SynthesisInput(text=text)\n",
    "    voice = texttospeech.VoiceSelectionParams(\n",
    "        language_code=\"en-US\",\n",
    "        name=\"en-US-Standard-C\",\n",
    "        ssml_gender=texttospeech.SsmlVoiceGender.FEMALE,\n",
    "    )\n",
    "    audio_config = texttospeech.AudioConfig(\n",
    "        audio_encoding=texttospeech.AudioEncoding.MP3\n",
    "    )\n",
    "    response = client.synthesize_speech(\n",
    "        input=input_text, voice=voice, audio_config=audio_config\n",
    "    )\n",
    "    return response.audio_content\n",
    "\n",
    "\n",
    "display(\n",
    "    Audio(\n",
    "        synthesize_speech(\"Hello, world! Nice to meet you! Python is always fun!\"),\n",
    "        autoplay=True,\n",
    "    )\n",
    ")"
   ]
  },
  {
   "cell_type": "code",
   "execution_count": null,
   "metadata": {},
   "outputs": [],
   "source": [
    "url = \"https://cbdb.fas.harvard.edu/cbdbapi/person.php\"\n",
    "response = requests.get(url, params={\"name\": \"王安仁\"})\n",
    "page = response.content.decode(\"utf-8\")\n",
    "print(page)"
   ]
  },
  {
   "cell_type": "code",
   "execution_count": 30,
   "metadata": {},
   "outputs": [],
   "source": [
    "url = \"https://cbdb.fas.harvard.edu/cbdbapi/person.php\"\n",
    "\n",
    "docs = []\n",
    "for person_id in range(1, 100):\n",
    "    response = requests.get(url, params={\"id\": person_id})\n",
    "    page = response.content.decode(\"utf-8\")\n",
    "    docs.append(page)\n",
    "print(docs[0])"
   ]
  }
 ],
 "metadata": {
  "kernelspec": {
   "display_name": ".venv",
   "language": "python",
   "name": "python3"
  },
  "language_info": {
   "codemirror_mode": {
    "name": "ipython",
    "version": 3
   },
   "file_extension": ".py",
   "mimetype": "text/x-python",
   "name": "python",
   "nbconvert_exporter": "python",
   "pygments_lexer": "ipython3",
   "version": "3.11.6"
  }
 },
 "nbformat": 4,
 "nbformat_minor": 2
}
